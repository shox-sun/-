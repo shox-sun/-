{
 "cells": [
  {
   "cell_type": "markdown",
   "metadata": {},
   "source": [
    "# 双指针问题\n",
    "\n",
    "指针是内存空间的地址，计算机可以通过这个地址找到变量的值。指针最大的优点是它可以有效利用零碎的内存空间。\n",
    "\n",
    "* 数组合并：合并两个有序数组\n",
    "* 二分查找：在有序数组中查找元素\n",
    "* 链表： 链表的概念和应用\n",
    "\n",
    "## 2.1 数组合并\n",
    "\n",
    "### 2.1.1 合并有序数组"
   ]
  },
  {
   "cell_type": "code",
   "execution_count": 3,
   "metadata": {
    "collapsed": true
   },
   "outputs": [],
   "source": [
    "arr1 = [1,3,4,6,10]\n",
    "arr2 = [2,5,8,11]\n",
    "ind = 0\n",
    "ans = arr1.copy()\n",
    "for i in range(0,len(arr2)):\n",
    "    while ind < len(arr1):\n",
    "        if arr2[i] <= arr1[ind]:\n",
    "            ans.insert(ind+i,arr2[i])\n",
    "            break\n",
    "        else:\n",
    "            ind += 1\n",
    "else:\n",
    "    ans = ans + arr2[i:]"
   ]
  },
  {
   "cell_type": "markdown",
   "metadata": {},
   "source": [
    "## 2.2 二分查找\n",
    "\n",
    "### 2.2.1 什么是二分查找\n",
    "\n",
    "如何在一个有序数组里面准确地找到一个元素的位置呢？\n",
    "\n",
    "二分查找又叫折半查找，意思为每次查找后，查找的范围都折半。这样查找到最后，查找的范围只剩下一个数的时候，判断它为要查找的数。如果是，就记录它的位置，如果不是，要查找的数不在这个数组中。\n",
    "\n"
   ]
  },
  {
   "cell_type": "code",
   "execution_count": 9,
   "metadata": {},
   "outputs": [
    {
     "name": "stdout",
     "output_type": "stream",
     "text": [
      "Enter a number to search:100000\n",
      "0 5000\n",
      "2501 5000\n",
      "3751 5000\n",
      "4376 5000\n",
      "4689 5000\n",
      "4845 5000\n",
      "4923 5000\n",
      "4962 5000\n",
      "4982 5000\n",
      "4992 5000\n",
      "4997 5000\n",
      "-1\n"
     ]
    }
   ],
   "source": [
    "numbers = [i for i in range(10000) if i % 2 == 1]\n",
    "head, tail = 0,len(numbers)\n",
    "search = int(input(\"Enter a number to search:\"))\n",
    "while tail - head > 1:\n",
    "    mid = (head + tail) // 2\n",
    "    print(head,tail)\n",
    "    if search < numbers[mid]:\n",
    "        tail = mid\n",
    "    elif search > numbers[mid]:\n",
    "        head = mid + 1\n",
    "    else:\n",
    "        ans = mid\n",
    "        break\n",
    "else:\n",
    "    if search == numbers[head]:\n",
    "        ans = search\n",
    "    else:\n",
    "        ans = -1\n",
    "print(ans)"
   ]
  },
  {
   "cell_type": "markdown",
   "metadata": {},
   "source": [
    "## 2.3 链表\n",
    "\n",
    "链表是用指针链接的用于储存数据的数组，它最大的有点在于可以有效利用零碎的内存空间。在很多语言中，数组的大小需要提前定义，定义之后不能随便更改，而且数组中只能储存同一类型的变量。\n",
    "\n",
    "Python中，列表的工作原理就是链表，由于Python没有指针，我们需要模拟指针的方式去实现链表。\n",
    "\n",
    "### 2.3.1 什么是单链表\n",
    "\n",
    "链表的每个元素不仅仅春村这个元素的值，还要储存与它相连的元素的指针的值，这样链表才能像锁链一样被连起来。单链表的每个元素包含本身的值和一个指向下一个数的指针。因为链表的最后一个数没有下一个数，所以它的指针被称为空指针。\n",
    "\n",
    "### 2.3.2建立单链表\n",
    "\n",
    "接下来我们建立一个单链表，并且按照顺序去输出所有元素。\n",
    "\n",
    "第一种方法是，把链表中的每一个元素储存在一个列表里面，再把他们的指针储存在另一个列表里面。"
   ]
  },
  {
   "cell_type": "code",
   "execution_count": 12,
   "metadata": {},
   "outputs": [
    {
     "name": "stdout",
     "output_type": "stream",
     "text": [
      "1\n",
      "2\n",
      "3\n",
      "4\n",
      "5\n",
      "6\n"
     ]
    }
   ],
   "source": [
    "ListValue = [1,5,6,2,4,3]\n",
    "ListPointer = [3,2,-1,5,1,4]\n",
    "head = 0\n",
    "print(ListValue[head])\n",
    "pointer = ListPointer[head]\n",
    "while pointer != -1:\n",
    "    print(ListValue[pointer])\n",
    "    pointer = ListPointer[pointer]"
   ]
  },
  {
   "cell_type": "markdown",
   "metadata": {},
   "source": [
    "第二种模拟单链表的方法是数组中嵌套数组。"
   ]
  },
  {
   "cell_type": "code",
   "execution_count": 15,
   "metadata": {},
   "outputs": [
    {
     "name": "stdout",
     "output_type": "stream",
     "text": [
      "1\n",
      "2\n",
      "3\n",
      "4\n",
      "5\n",
      "6\n"
     ]
    }
   ],
   "source": [
    "value = 0\n",
    "pointer = 1\n",
    "LinkedList = [[1,3],[5,2],[6,-1],[2,5],[4,1],[3,4]]\n",
    "head = 0\n",
    "print(LinkedList[head][value])\n",
    "pointer_to_next = LinkedList[head][pointer]\n",
    "while pointer_to_next != -1:\n",
    "    print(LinkedList[pointer_to_next][value])\n",
    "    pointer_to_next = LinkedList[pointer_to_next][pointer]"
   ]
  },
  {
   "cell_type": "markdown",
   "metadata": {},
   "source": [
    "### 2.3.3 建立双链表\n",
    "\n",
    "单链表中的元素由它的值和指向下一个元素的指针组成，类似的，双链表的每个元素由它的值和两个指针组成，一个指针指向下一个元素，一个指针指向上一个元素。\n",
    "\n",
    "和单链表相比，双链表的好处是可以双向遍历。\n",
    "\n",
    "第一种方法："
   ]
  },
  {
   "cell_type": "code",
   "execution_count": 34,
   "metadata": {},
   "outputs": [
    {
     "name": "stdout",
     "output_type": "stream",
     "text": [
      "第一种方法，正向输出\n",
      "1\n",
      "2\n",
      "3\n",
      "5\n",
      "6\n",
      "7\n",
      "第一种方法，反向输出\n",
      "7\n",
      "6\n",
      "5\n",
      "3\n",
      "2\n",
      "1\n",
      "第二种方法，正向\n",
      "1\n",
      "2\n",
      "3\n",
      "5\n",
      "6\n",
      "7\n",
      "第二种方法，反向\n",
      "7\n",
      "6\n",
      "5\n",
      "3\n",
      "2\n",
      "1\n"
     ]
    }
   ],
   "source": [
    "ListValue = [1,5,6,2,7,3]\n",
    "ListRight = [3,2,4,5,-1,1] # 用于储存下一个元素下标的指针\n",
    "ListLeft = [-1,5,1,0,2,3] # 用于储存上一个元素下表的指针\n",
    "\n",
    "print(\"第一种方法，正向输出\")\n",
    "head = ListLeft.index(-1)\n",
    "print(ListValue[head])\n",
    "pointer = ListRight[head]\n",
    "while pointer != -1:\n",
    "    print(ListValue[pointer])\n",
    "    pointer = ListRight[pointer]\n",
    "\n",
    "print(\"第一种方法，反向输出\".format())\n",
    "tail = ListRight.index(-1)\n",
    "print(ListValue[tail])\n",
    "pointer = ListLeft[tail]\n",
    "while pointer != -1:\n",
    "    print(ListValue[pointer])\n",
    "    pointer = ListLeft[pointer]\n",
    "    \n",
    "    \n",
    "right = 1\n",
    "left = 2\n",
    "value = 0\n",
    "LinkedList = [ [1,3,-1], [5,2,5], [6,4,1], [2,5,0], [7,-1,2], [3,1,3]]\n",
    "\n",
    "for i in LinkedList:\n",
    "    if i[left] == -1:\n",
    "        right_head = LinkedList.index(i)\n",
    "    if i[right] == -1:\n",
    "        left_tail = LinkedList.index(i)\n",
    "\n",
    "print(\"第二种方法，正向\")\n",
    "print(LinkedList[right_head][value])\n",
    "pointer = LinkedList[right_head][right]\n",
    "while pointer != -1:\n",
    "    print(LinkedList[pointer][value])\n",
    "    pointer = LinkedList[pointer][right]\n",
    "\n",
    "\n",
    "print(\"第二种方法，反向\")\n",
    "print(LinkedList[left_tail][value])\n",
    "pointer = LinkedList[left_tail][left]\n",
    "while pointer != -1:\n",
    "    print(LinkedList[pointer][value])\n",
    "    pointer = LinkedList[pointer][left]"
   ]
  },
  {
   "cell_type": "markdown",
   "metadata": {},
   "source": [
    "比较两种方法的时间消耗：\n"
   ]
  },
  {
   "cell_type": "code",
   "execution_count": 82,
   "metadata": {
    "collapsed": true
   },
   "outputs": [],
   "source": [
    "def method1(ListValue,ListRight,ListLeft):\n",
    "    res1 = []\n",
    "#     print(\"第一种方法，正向输出\")\n",
    "    head = ListLeft.index(-1)\n",
    "#     print(ListValue[head])\n",
    "    res1.append(ListValue[head])\n",
    "    pointer = ListRight[head]\n",
    "    while pointer != -1:\n",
    "#         print(ListValue[pointer])\n",
    "        res1.append(ListValue[pointer])\n",
    "        pointer = ListRight[pointer]\n",
    "\n",
    "#     print(\"第一种方法，反向输出\".format())\n",
    "    res2 = []\n",
    "    tail = ListRight.index(-1)\n",
    "#     print(ListValue[tail])\n",
    "    res2.append(ListValue[head])\n",
    "    pointer = ListLeft[tail]\n",
    "    while pointer != -1:\n",
    "#         print(ListValue[pointer])\n",
    "        res2.append(ListValue[pointer])\n",
    "        pointer = ListLeft[pointer]\n",
    "\n",
    "def method2(LinkedList):\n",
    "    \n",
    "    right_head = [x[left] for x in LinkedList].index(-1)\n",
    "\n",
    "    left_tail = [x[right] for x in LinkedList].index(-1)\n",
    "\n",
    "#     print(\"第二种方法，正向\")\n",
    "#     print(LinkedList[right_head][value])\n",
    "    res1 = []\n",
    "    res1.append(LinkedList[right_head][value])\n",
    "    pointer = LinkedList[right_head][right]\n",
    "    while pointer != -1:\n",
    "#         print(LinkedList[pointer][value])\n",
    "        res1.append(LinkedList[pointer][value])\n",
    "        pointer = LinkedList[pointer][right]\n",
    "\n",
    "\n",
    "#     print(\"第二种方法，反向\")\n",
    "#     print(LinkedList[left_tail][value])\n",
    "    res2 = []\n",
    "    res2.append(LinkedList[left_tail][value])\n",
    "    pointer = LinkedList[left_tail][left]\n",
    "    while pointer != -1:\n",
    "#         print(LinkedList[pointer][value])\n",
    "        res2.append(LinkedList[pointer][value])\n",
    "        pointer = LinkedList[pointer][left]"
   ]
  },
  {
   "cell_type": "code",
   "execution_count": 43,
   "metadata": {
    "collapsed": true
   },
   "outputs": [],
   "source": [
    "LinkedList = [ [1,3,-1], [5,2,5], [6,4,1], [2,5,0], [7,-1,2], [3,1,3]]\n",
    "ListValue = [1,5,6,2,7,3]\n",
    "ListRight = [3,2,4,5,-1,1] # 用于储存下一个元素下标的指针\n",
    "ListLeft = [-1,5,1,0,2,3] # 用于储存上一个元素下表的指针\n",
    "right = 1\n",
    "left = 2\n",
    "value = 0"
   ]
  },
  {
   "cell_type": "code",
   "execution_count": 80,
   "metadata": {
    "collapsed": true
   },
   "outputs": [],
   "source": [
    "LinkedList = [[a,a + 1,a-1] for a in range(10000)]\n",
    "LinkedList[9999][1] = -1\n",
    "\n",
    "ListValue = [x[0] for x in LinkedList]\n",
    "ListRight = [x[1] for x in LinkedList]\n",
    "ListLeft = [x[2] for x in LinkedList]"
   ]
  },
  {
   "cell_type": "code",
   "execution_count": 83,
   "metadata": {},
   "outputs": [
    {
     "name": "stdout",
     "output_type": "stream",
     "text": [
      "100 loops, best of 3: 3.03 ms per loop\n"
     ]
    }
   ],
   "source": [
    "%timeit method1(ListValue,ListRight,ListLeft)"
   ]
  },
  {
   "cell_type": "code",
   "execution_count": 84,
   "metadata": {},
   "outputs": [
    {
     "name": "stdout",
     "output_type": "stream",
     "text": [
      "100 loops, best of 3: 4.47 ms per loop\n"
     ]
    }
   ],
   "source": [
    "%timeit method2(LinkedList)"
   ]
  },
  {
   "cell_type": "markdown",
   "metadata": {},
   "source": [
    "相比较而言，第一种方法会比较好，index操作检索第一个值的位置速度比较快，第二种方法使用循环去抽取左右指针，分别选择第一个值的位置，消耗了更多时间，访问初始列表的深度增加了。"
   ]
  },
  {
   "cell_type": "markdown",
   "metadata": {},
   "source": [
    "### 2.3.5 向单链表中添加元素\n",
    "\n",
    "1. 把新元素的指针指向它将要插入的位置后方的元素\n",
    "2. 把新元素前面的元素的指针指向这个插入的新元素\n",
    "\n",
    "这样做避免了单链表的断开，因为一旦修改了前面元素的指针，新元素的指针就不知道指向哪个元素了。\n"
   ]
  },
  {
   "cell_type": "code",
   "execution_count": 87,
   "metadata": {},
   "outputs": [
    {
     "name": "stdout",
     "output_type": "stream",
     "text": [
      "1\n",
      "2\n",
      "3\n",
      "5\n",
      "6\n",
      "7\n",
      "\n",
      "1\n",
      "2\n",
      "3\n",
      "4\n",
      "5\n",
      "6\n",
      "7\n"
     ]
    }
   ],
   "source": [
    "def Output(ListValue,ListRight,head):\n",
    "    print(ListValue[head])\n",
    "    pointer = ListRight[head]\n",
    "    while pointer != -1:\n",
    "        print(ListValue[pointer])\n",
    "        pointer = ListRight[pointer]\n",
    "\n",
    "ListValue = [1,5,6,2,7,3]\n",
    "ListRight = [3,2,4,5,-1,1]\n",
    "head = 0\n",
    "prepos = 5 # 已知要插入的元素的上一个元素的位置\n",
    "\n",
    "Output(ListValue,ListRight,head)\n",
    "print()\n",
    "\n",
    "ListValue.append(4) # 值添加4\n",
    "ListRight.append(ListRight[prepos]) # 让4的指针等于上一个元素的指针\n",
    "ListRight[prepos] = len(ListRight) - 1 # 让上一个元素的指针等于值4的位置\n",
    "\n",
    "Output(ListValue,ListRight,head)"
   ]
  },
  {
   "cell_type": "code",
   "execution_count": 88,
   "metadata": {},
   "outputs": [
    {
     "name": "stdout",
     "output_type": "stream",
     "text": [
      "1\n",
      "2\n",
      "3\n",
      "5\n",
      "6\n",
      "7\n",
      "\n",
      "1\n",
      "2\n",
      "3\n",
      "4\n",
      "5\n",
      "6\n",
      "7\n"
     ]
    }
   ],
   "source": [
    "def Output(ListValue,ListRight,head):\n",
    "    print(ListValue[head])\n",
    "    pointer = ListRight[head]\n",
    "    while pointer != -1:\n",
    "        print(ListValue[pointer])\n",
    "        pointer = ListRight[pointer]\n",
    "\n",
    "ListValue = [1,5,6,2,7,3]\n",
    "ListRight = [3,2,4,5,-1,1]\n",
    "head = 0\n",
    "prepos = 3 # 已知要插入的元素的上一个元素的值\n",
    "\n",
    "Output(ListValue,ListRight,head)\n",
    "print()\n",
    "\n",
    "ListValue.append(4) # 值添加4\n",
    "ListRight.append(ListRight[ListValue.index(prepos)]) # 让4的指针等于上一个元素的指针\n",
    "ListRight[ListValue.index(prepos)] = len(ListRight) - 1 # 让上一个元素的指针等于值4的位置\n",
    "\n",
    "Output(ListValue,ListRight,head)"
   ]
  },
  {
   "cell_type": "markdown",
   "metadata": {},
   "source": [
    "### 2.3.6 在双链表中添加元素\n",
    "\n",
    "1. 首先给新元素指向前后元素的指针赋值\n",
    "2. 然后把前后两个元素指向新元素的指针赋值\n",
    "\n"
   ]
  },
  {
   "cell_type": "code",
   "execution_count": 94,
   "metadata": {},
   "outputs": [
    {
     "name": "stdout",
     "output_type": "stream",
     "text": [
      "1\n",
      "2\n",
      "3\n",
      "5\n",
      "6\n",
      "7\n",
      "\n",
      "1\n",
      "2\n",
      "3\n",
      "4\n",
      "5\n",
      "6\n",
      "7\n"
     ]
    }
   ],
   "source": [
    "ListValue = [1,5,6,2,7,3]\n",
    "ListRight = [3,2,4,5,-1,1]\n",
    "ListLeft = [-1,5,1,0,2,3]\n",
    "head = 0\n",
    "prepos = 5 # 已知上一个元素的位置是5，那么下一个元素的位置是ListRight[5]\n",
    "\n",
    "Output(ListValue,ListRight,head)\n",
    "print()\n",
    "\n",
    "ListValue.append(4) # 值的增加\n",
    "ListRight.append(ListRight[prepos]) # 修改新元素的后指针\n",
    "ListLeft.append(prepos) # 修改新元素的前指针\n",
    "\n",
    "ListRight[prepos] = len(ListValue) - 1 # 修改前一个元素的后指针\n",
    "ListLeft[ListRight[prepos]] = len(ListValue) - 1 # 修改后一个元素的前指针\n",
    "\n",
    "Output(ListValue,ListRight,head)"
   ]
  },
  {
   "cell_type": "markdown",
   "metadata": {},
   "source": [
    "### 2.3.7 删除列表中的元素\n",
    "\n",
    "对于单链表，使用当前元素的指针寻找到下一个元素，在通过下一个元素的指针寻找到下下个元素。把当前元素的指针指向下下个元素，这样当以指针的顺序遍历列表时，下一个元素就再也不会出现了。\n",
    "\n",
    "对于双链表，需要修改的待删除元素的前一个元素的后指针，还有待删除元素后一个元素的前指针。\n",
    "\n"
   ]
  },
  {
   "cell_type": "code",
   "execution_count": 98,
   "metadata": {},
   "outputs": [
    {
     "name": "stdout",
     "output_type": "stream",
     "text": [
      "1\n",
      "2\n",
      "3\n",
      "5\n",
      "6\n",
      "7\n",
      "\n",
      "1\n",
      "2\n",
      "3\n",
      "6\n",
      "7\n"
     ]
    }
   ],
   "source": [
    "ListValue = [1,5,6,2,7,3]\n",
    "ListRight = [3,2,4,5,-1,1]\n",
    "head = 0\n",
    "prepos = 5\n",
    "\n",
    "Output(ListValue,ListRight,head)\n",
    "print()\n",
    "\n",
    "ListRight[prepos] = ListRight[ListRight[prepos]]\n",
    "\n",
    "Output(ListValue,ListRight,head)"
   ]
  },
  {
   "cell_type": "code",
   "execution_count": 100,
   "metadata": {},
   "outputs": [
    {
     "name": "stdout",
     "output_type": "stream",
     "text": [
      "1\n",
      "2\n",
      "3\n",
      "5\n",
      "6\n",
      "7\n",
      "1\n",
      "2\n",
      "3\n",
      "6\n",
      "7\n"
     ]
    }
   ],
   "source": [
    "ListValue  = [1,5,6,2,7,3]\n",
    "ListRight = [3,2,4,5,-1,1]\n",
    "ListLeft = [-1,5,1,0,2,3]\n",
    "head = 0\n",
    "prepos = 5\n",
    "\n",
    "Output(ListValue,ListRight,head)\n",
    "\n",
    "ListRight[prepos] = ListRight[ListRight[prepos]]\n",
    "ListLeft[ListRight[ListRight[prepos]]] = prepos\n",
    "\n",
    "Output(ListValue,ListRight,head)"
   ]
  }
 ],
 "metadata": {
  "kernelspec": {
   "display_name": "Python 3",
   "language": "python",
   "name": "python3"
  },
  "language_info": {
   "codemirror_mode": {
    "name": "ipython",
    "version": 3
   },
   "file_extension": ".py",
   "mimetype": "text/x-python",
   "name": "python",
   "nbconvert_exporter": "python",
   "pygments_lexer": "ipython3",
   "version": "3.6.1"
  }
 },
 "nbformat": 4,
 "nbformat_minor": 2
}
