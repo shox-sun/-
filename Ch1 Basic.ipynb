{
 "cells": [
  {
   "cell_type": "markdown",
   "metadata": {},
   "source": [
    "# 第一章 编程基础\n",
    "\n",
    "主要内容有如下：\n",
    "- 变量：变量的类型和操作\n",
    "- 三大结构：循序、分支ifelse和循环for/while\n",
    "- 数组：数组的概念和使用\n",
    "- 函数：函数的定义与调用"
   ]
  },
  {
   "cell_type": "markdown",
   "metadata": {},
   "source": [
    "## 1.1 变量\n",
    "\n",
    "变量可以用于储存不同的计算结果和不同类型的数据，或表示一个数值。变量是可变的，也就是说，它可以被重复赋值。\n",
    "\n",
    "### 1.1.1 输出和输入\n",
    "\n"
   ]
  },
  {
   "cell_type": "code",
   "execution_count": 102,
   "metadata": {},
   "outputs": [
    {
     "name": "stdout",
     "output_type": "stream",
     "text": [
      "Enter a number:12\n",
      "13\n"
     ]
    }
   ],
   "source": [
    "num = int(input(\"Enter a number:\"))\n",
    "num += 1\n",
    "print(num)"
   ]
  },
  {
   "cell_type": "markdown",
   "metadata": {},
   "source": [
    "### 1.1.2 简单变量类型\n",
    "\n",
    "Python语言有五种变量类型：数字、字符串、列表、元组和字典。<font color = 'DarkSalmon'> 如何使用暗橙色 </font>\n",
    "\n",
    "            "
   ]
  },
  {
   "cell_type": "markdown",
   "metadata": {},
   "source": [
    "数字有int和float两种类型，float转int会直接丢弃小数部分。"
   ]
  },
  {
   "cell_type": "code",
   "execution_count": 103,
   "metadata": {},
   "outputs": [
    {
     "name": "stdout",
     "output_type": "stream",
     "text": [
      "10.0 10\n"
     ]
    }
   ],
   "source": [
    "num1 = 10\n",
    "num2 = 10.99\n",
    "num1 = float(num1)\n",
    "num2 = int(num2)\n",
    "print(num1,num2)"
   ]
  },
  {
   "cell_type": "markdown",
   "metadata": {},
   "source": [
    "字符串中的特别字符需要转义，一般来说，注释或者字符串，最外层尽量使用双引号。不同的符号，转义方式不一样。"
   ]
  },
  {
   "cell_type": "code",
   "execution_count": 104,
   "metadata": {},
   "outputs": [
    {
     "data": {
      "text/plain": [
       "(\"I'm a programmer\", \"I'am a programmer\")"
      ]
     },
     "execution_count": 104,
     "metadata": {},
     "output_type": "execute_result"
    }
   ],
   "source": [
    "text1 = \"I'm a programmer\"\n",
    "text2 = 'I\\'am a programmer'\n",
    "text1,text2"
   ]
  },
  {
   "cell_type": "markdown",
   "metadata": {},
   "source": [
    "### 1.1.3 数学计算\n"
   ]
  },
  {
   "cell_type": "code",
   "execution_count": 105,
   "metadata": {},
   "outputs": [
    {
     "name": "stdout",
     "output_type": "stream",
     "text": [
      "0.5\n",
      "0.09999999999999998\n",
      "0.06\n",
      "1.4999999999999998\n"
     ]
    }
   ],
   "source": [
    "print(.3 + .2)\n",
    "print(.3 - .2)\n",
    "print(.3 * .2)\n",
    "print(.3/.2)"
   ]
  },
  {
   "cell_type": "code",
   "execution_count": 225,
   "metadata": {
    "collapsed": true
   },
   "outputs": [],
   "source": [
    "from IPython.core.interactiveshell import InteractiveShell\n",
    "InteractiveShell.ast_node_interactivity = \"last\""
   ]
  },
  {
   "cell_type": "code",
   "execution_count": 107,
   "metadata": {},
   "outputs": [
    {
     "data": {
      "text/plain": [
       "16"
      ]
     },
     "execution_count": 107,
     "metadata": {},
     "output_type": "execute_result"
    },
    {
     "data": {
      "text/plain": [
       "1"
      ]
     },
     "execution_count": 107,
     "metadata": {},
     "output_type": "execute_result"
    }
   ],
   "source": [
    "pow(4,2)\n",
    "pow(4,2,3) # 4^2 % 3 = 1"
   ]
  },
  {
   "cell_type": "code",
   "execution_count": 108,
   "metadata": {},
   "outputs": [
    {
     "data": {
      "text/plain": [
       "2.0"
      ]
     },
     "execution_count": 108,
     "metadata": {},
     "output_type": "execute_result"
    }
   ],
   "source": [
    "import math \n",
    "num  = -4\n",
    "num = abs(num)\n",
    "math.sqrt(num)"
   ]
  },
  {
   "cell_type": "markdown",
   "metadata": {},
   "source": [
    "### 1.1.1 位运算\n",
    "\n",
    "位运算是吧变量当做二进制的数字进行运算。\n",
    "\n",
    "- `&` :  位运算的与\n",
    "- `|` : 位运算的或\n",
    "- `^` : 位运算的异或\n",
    "- `<<` :  左移位运算\n",
    "- `\\>>` : 右移位运算\n"
   ]
  },
  {
   "cell_type": "code",
   "execution_count": 1,
   "metadata": {},
   "outputs": [
    {
     "ename": "SyntaxError",
     "evalue": "invalid syntax (<ipython-input-1-f976eab4ada9>, line 5)",
     "output_type": "error",
     "traceback": [
      "\u001b[1;36m  File \u001b[1;32m\"<ipython-input-1-f976eab4ada9>\"\u001b[1;36m, line \u001b[1;32m5\u001b[0m\n\u001b[1;33m    `c`\u001b[0m\n\u001b[1;37m    ^\u001b[0m\n\u001b[1;31mSyntaxError\u001b[0m\u001b[1;31m:\u001b[0m invalid syntax\n"
     ]
    }
   ],
   "source": [
    "a = 62       # a = 0011 1110\n",
    "b = 21       # b = 0001 0101\n",
    "c = a&b      # c = 0001 0100\n",
    "c"
   ]
  },
  {
   "cell_type": "code",
   "execution_count": 110,
   "metadata": {},
   "outputs": [
    {
     "name": "stdout",
     "output_type": "stream",
     "text": [
      "248\n",
      "10\n"
     ]
    }
   ],
   "source": [
    "a = 62       # a = 0011 1110\n",
    "b = 21       # b = 0001 0101\n",
    "print(a<<2)  # a<<2 = 1111 1000\n",
    "print(b>>1)  # b>>2 = 0000 1010"
   ]
  },
  {
   "cell_type": "markdown",
   "metadata": {},
   "source": [
    "### 1.1.5 使用字符串\n",
    "\n",
    "使用+去拼接字符串，如果想要加数字，需要把数字转化成字符串。"
   ]
  },
  {
   "cell_type": "code",
   "execution_count": 111,
   "metadata": {},
   "outputs": [
    {
     "data": {
      "text/plain": [
       "'2018.2.16 Friday'"
      ]
     },
     "execution_count": 111,
     "metadata": {},
     "output_type": "execute_result"
    }
   ],
   "source": [
    "date = \"2018.2.16\"\n",
    "day = \"Friday\"\n",
    "text = date + \" \" + day\n",
    "text"
   ]
  },
  {
   "cell_type": "code",
   "execution_count": 112,
   "metadata": {},
   "outputs": [
    {
     "data": {
      "text/plain": [
       "'Age:13'"
      ]
     },
     "execution_count": 112,
     "metadata": {},
     "output_type": "execute_result"
    },
    {
     "name": "stdout",
     "output_type": "stream",
     "text": [
      "Age: 13\n"
     ]
    }
   ],
   "source": [
    "age = 13\n",
    "text = \"Age:\"\n",
    "text + str(age)\n",
    "print(text,age)"
   ]
  },
  {
   "cell_type": "code",
   "execution_count": 113,
   "metadata": {},
   "outputs": [
    {
     "data": {
      "text/plain": [
       "'ADAM 9SMITH'"
      ]
     },
     "execution_count": 113,
     "metadata": {},
     "output_type": "execute_result"
    },
    {
     "data": {
      "text/plain": [
       "'adam 9smith'"
      ]
     },
     "execution_count": 113,
     "metadata": {},
     "output_type": "execute_result"
    },
    {
     "data": {
      "text/plain": [
       "'Adam 9smith'"
      ]
     },
     "execution_count": 113,
     "metadata": {},
     "output_type": "execute_result"
    },
    {
     "data": {
      "text/plain": [
       "'Adam 9Smith'"
      ]
     },
     "execution_count": 113,
     "metadata": {},
     "output_type": "execute_result"
    }
   ],
   "source": [
    "name = \"Adam 9Smith\"\n",
    "name.upper()\n",
    "name.lower()\n",
    "name.capitalize()\n",
    "name.title()"
   ]
  },
  {
   "cell_type": "code",
   "execution_count": 114,
   "metadata": {},
   "outputs": [
    {
     "name": "stdout",
     "output_type": "stream",
     "text": [
      "1\t123\n"
     ]
    }
   ],
   "source": [
    "print(\"1\\t123\")"
   ]
  },
  {
   "cell_type": "markdown",
   "metadata": {},
   "source": [
    "## 1.2 三大结构\n",
    "\n",
    "循序、分支和循环\n",
    "\n",
    "### 1.2.1 循序结构\n",
    "\n",
    "### 1.2.2 分支结构\n",
    "\n",
    "if...elif...else\n",
    "\n",
    "\n",
    "### 1.2.3 条件判断\n",
    "\n",
    "Python认定0或者null为False，任意非0值或者非空值为True。这个判定结果也是一种变量，他可以被定义或者返回。"
   ]
  },
  {
   "cell_type": "code",
   "execution_count": 115,
   "metadata": {},
   "outputs": [
    {
     "data": {
      "text/plain": [
       "(True, True, False, False)"
      ]
     },
     "execution_count": 115,
     "metadata": {},
     "output_type": "execute_result"
    }
   ],
   "source": [
    "judge1 = bool(1)\n",
    "judge2 = bool(\"string\")\n",
    "judge3 = bool(\"\")\n",
    "judge4 = bool(0)\n",
    "judge1,judge2,judge3,judge4"
   ]
  },
  {
   "cell_type": "markdown",
   "metadata": {
    "collapsed": true
   },
   "source": [
    "### 1.2.3 应用分支结构\n",
    "\n"
   ]
  },
  {
   "cell_type": "code",
   "execution_count": 116,
   "metadata": {},
   "outputs": [
    {
     "name": "stdout",
     "output_type": "stream",
     "text": [
      "Enter the year you born: 23\n",
      "you are an adult this year!\n"
     ]
    }
   ],
   "source": [
    "year = int(input(\"Enter the year you born: \"))\n",
    "if 2018 - year >= 18:\n",
    "    print(\"you are an adult this year!\")\n",
    "else:\n",
    "    print(\"Just a kid now!\") "
   ]
  },
  {
   "cell_type": "code",
   "execution_count": 117,
   "metadata": {
    "collapsed": true
   },
   "outputs": [],
   "source": [
    "def buz():\n",
    "    if 200 > 1: \n",
    "        y = 'upper'\n",
    "    else:\n",
    "        y = 'lower'\n",
    "     \n",
    "def fuz():\n",
    "    if 200 > 1: \n",
    "        y = 'upper'\n",
    "    if 200 <= 1:\n",
    "        y = 'lower'"
   ]
  },
  {
   "cell_type": "code",
   "execution_count": 118,
   "metadata": {},
   "outputs": [
    {
     "name": "stdout",
     "output_type": "stream",
     "text": [
      "1000 loops, best of 3: 107 ns per loop\n",
      "1000 loops, best of 3: 130 ns per loop\n"
     ]
    }
   ],
   "source": [
    "%timeit -n 1000 buz()\n",
    "%timeit -n 1000 fuz()"
   ]
  },
  {
   "cell_type": "code",
   "execution_count": 119,
   "metadata": {},
   "outputs": [
    {
     "name": "stdout",
     "output_type": "stream",
     "text": [
      "Enter your age: 3\n",
      "Free\n"
     ]
    }
   ],
   "source": [
    "age = int(input(\"Enter your age: \"))\n",
    "if age < 0:\n",
    "    print(\"Error\")\n",
    "elif age>=0 and age<7:\n",
    "    print(\"Free\")\n",
    "elif (age >= 7 and age < 14) or age >= 60:\n",
    "    print(\"Half price\")\n",
    "else:\n",
    "    print(\"Full price\")"
   ]
  },
  {
   "cell_type": "markdown",
   "metadata": {},
   "source": [
    "### 1.2.5 循环结构、\n",
    "\n",
    "### 1.2.6 continue 和 break\n",
    "\n",
    "### 1.2.7 应用循环结构\n",
    "\n",
    "### 1.2.8 结构的嵌套\n",
    "\n"
   ]
  },
  {
   "cell_type": "code",
   "execution_count": 120,
   "metadata": {},
   "outputs": [
    {
     "name": "stdout",
     "output_type": "stream",
     "text": [
      "Enter the dividend: 3\n",
      "Enter the divider: 4\n",
      "0.75 float\n"
     ]
    }
   ],
   "source": [
    "num1 = int(input(\"Enter the dividend: \"))\n",
    "num2 = int(input(\"Enter the divider: \"))\n",
    "if num2 != 0 :\n",
    "    result = num1 / num2\n",
    "    if result == int(num1/num2):\n",
    "        print(int(result),\"interger\")\n",
    "    else:\n",
    "        print(result, \"float\")\n",
    "else:\n",
    "    print(\"The divider can't be 0.Error\")"
   ]
  },
  {
   "cell_type": "markdown",
   "metadata": {},
   "source": [
    "## 1.3 列表\n",
    "\n",
    "### 1.3.1 定义列表\n",
    "\n",
    "用[]去生成列表。<font color = 'DarkSalmon'> 这样做和list()生成，有什么区别？ </font > <font color = 'Salmon'> list()是用来转换其他变量类型为列表的函数。 </font>\n",
    "\n",
    "### 1.3.2 对元素进行操作"
   ]
  },
  {
   "cell_type": "code",
   "execution_count": 121,
   "metadata": {},
   "outputs": [
    {
     "data": {
      "text/plain": [
       "[2, 3, 5, 7, 9]"
      ]
     },
     "execution_count": 121,
     "metadata": {},
     "output_type": "execute_result"
    },
    {
     "data": {
      "text/plain": [
       "[2, 3, 5, 7, 9, 123]"
      ]
     },
     "execution_count": 121,
     "metadata": {},
     "output_type": "execute_result"
    },
    {
     "data": {
      "text/plain": [
       "[0, 2, 3, 5, 7, 9, 123]"
      ]
     },
     "execution_count": 121,
     "metadata": {},
     "output_type": "execute_result"
    }
   ],
   "source": [
    "mylist = [2,3,5,7,11]\n",
    "mylist[4] = 9\n",
    "mylist\n",
    "mylist.append(123)\n",
    "mylist\n",
    "mylist.insert(0,0)\n",
    "mylist"
   ]
  },
  {
   "cell_type": "markdown",
   "metadata": {},
   "source": [
    "关于删除元素有几种方法：\n",
    "\n",
    "1. list.remove(obj) 移除列表中第一个对于给定值的匹配项\n",
    "2. list.pop(index)  移除列表中某个位置的元素，并且返回移除元素的值\n",
    "3. del list[index]  移除列表中某个未知的元素"
   ]
  },
  {
   "cell_type": "code",
   "execution_count": 122,
   "metadata": {},
   "outputs": [
    {
     "data": {
      "text/plain": [
       "[3, 4, 5, 6, 2]"
      ]
     },
     "execution_count": 122,
     "metadata": {},
     "output_type": "execute_result"
    },
    {
     "data": {
      "text/plain": [
       "([4, 5, 6, 2], 3)"
      ]
     },
     "execution_count": 122,
     "metadata": {},
     "output_type": "execute_result"
    },
    {
     "data": {
      "text/plain": [
       "[4, 5, 6]"
      ]
     },
     "execution_count": 122,
     "metadata": {},
     "output_type": "execute_result"
    }
   ],
   "source": [
    "mylist = [2,3,4,5,6,2]\n",
    "mylist.remove(2)\n",
    "mylist\n",
    "num = mylist.pop(0)\n",
    "mylist,num\n",
    "del mylist[-1]\n",
    "mylist"
   ]
  },
  {
   "cell_type": "markdown",
   "metadata": {},
   "source": [
    "### 1.3.3 列表的顺序\n",
    "\n",
    ".sort() .reverse()\n",
    "\n",
    "### 1.3.4 列表内置函数\n",
    "\n",
    "- len()  返回长度\n",
    "- max()\n",
    "- min()\n",
    "- .count(obj)  返回取值为obj的元素个数。取值不存在则返回0\n",
    "- .index(obj)  返回第一个取值为obj的元素位置\n",
    "- .clear() 清空列表，返回一个空列表\n",
    "- .copy shallow copy浅层复制，对于一级元素进行值的复制"
   ]
  },
  {
   "cell_type": "markdown",
   "metadata": {},
   "source": [
    "### 1.3.5 截取和拼接列表"
   ]
  },
  {
   "cell_type": "code",
   "execution_count": 123,
   "metadata": {},
   "outputs": [
    {
     "data": {
      "text/plain": [
       "([2, 3, 4, 6, 1], [4, 6, 1], [3, 5, 7, 9, 10, 22, 18, 31, 24, 53])"
      ]
     },
     "execution_count": 123,
     "metadata": {},
     "output_type": "execute_result"
    }
   ],
   "source": [
    "numlist = [2,3,4,6,1,3,5,7,9,10,22,18,31,24,53]\n",
    "numlist[:5], numlist[2:5], numlist[5:]"
   ]
  },
  {
   "cell_type": "markdown",
   "metadata": {},
   "source": [
    "### 1.3.6 字符串、元组和列表\n",
    "\n",
    "这三种变量有很多相似之处。\n",
    "\n",
    "元组和列表相似，内部元素可以是不同给的类型，都可以被调用。不同之处在于，元组的元素是固定不变的，他们的值不能被更改。元组的长度也是固定的，即不能添加或删除元素。"
   ]
  },
  {
   "cell_type": "code",
   "execution_count": 131,
   "metadata": {},
   "outputs": [
    {
     "name": "stdout",
     "output_type": "stream",
     "text": [
      "(2, 4, 6, 8, 10)\n"
     ]
    },
    {
     "data": {
      "text/plain": [
       "(2, 4, 6, 8, 10, 2, 4, 6, 8, 10)"
      ]
     },
     "execution_count": 131,
     "metadata": {},
     "output_type": "execute_result"
    },
    {
     "name": "stdout",
     "output_type": "stream",
     "text": [
      "(6, 8, 10)\n"
     ]
    }
   ],
   "source": [
    "numtuple = (2,4,6,8,10)\n",
    "print(numtuple)\n",
    "newtuple = numtuple * 2\n",
    "newtuple\n",
    "print(newtuple[2:5])"
   ]
  },
  {
   "cell_type": "markdown",
   "metadata": {},
   "source": [
    "元组可以被重复赋值，但是其中的元素不可以更改："
   ]
  },
  {
   "cell_type": "code",
   "execution_count": 133,
   "metadata": {},
   "outputs": [
    {
     "name": "stdout",
     "output_type": "stream",
     "text": [
      "(2, 4, 6, 8, 10)\n",
      "(2, 4, 6, 8)\n",
      "2\n"
     ]
    }
   ],
   "source": [
    "numtuple = (2,4,6,8,10)\n",
    "print(numtuple)\n",
    "numtuple = (2,4,6,8)\n",
    "print(numtuple)\n",
    "print(numtuple[0])\n",
    "# 非法操作\n",
    "# numtuple[0] = 100\n",
    "# numtuple.appen(10)"
   ]
  },
  {
   "cell_type": "markdown",
   "metadata": {},
   "source": [
    "元组的合法操作和列表完全相同。如果想要修改元组的内部元素，只能给元组重新赋值或者在定义元组的那一行直接修改程序。\n",
    "\n",
    "我们熟悉的字符串其实和元组十分相似。可以把字符串描述成由一个或者多个字符组成的元组，他不能被修改，但可以被截取、拼接或者赋值。但是，字符串只能由字符构成，但是元组可以由多种变量构成。\n",
    "\n",
    "下面的程序演示了字符串的截取、拼接功能。"
   ]
  },
  {
   "cell_type": "code",
   "execution_count": 135,
   "metadata": {},
   "outputs": [
    {
     "name": "stdout",
     "output_type": "stream",
     "text": [
      "a b\n",
      "bc\n",
      "bcab\n"
     ]
    }
   ],
   "source": [
    "str1 = \"abcd\"\n",
    "print(str1[0],str1[1])\n",
    "print(str1[1:3])\n",
    "print(str1[1:3] + str1[:2])"
   ]
  },
  {
   "cell_type": "markdown",
   "metadata": {},
   "source": [
    "字符串、元组和列表是可以相互转换的，这时候要用到str、list和tuple三个函数，这三个函数可以返回转换后的字符串、列表和元组。我们来看一个字符串转换为元组和列表的例子：\n"
   ]
  },
  {
   "cell_type": "code",
   "execution_count": 136,
   "metadata": {},
   "outputs": [
    {
     "name": "stdout",
     "output_type": "stream",
     "text": [
      "['a', 'b', 'c', 'd', 'e', 'f', 'g'] ('a', 'b', 'c', 'd', 'e', 'f', 'g')\n"
     ]
    }
   ],
   "source": [
    "sample = \"abcdefg\"\n",
    "print(list(sample),tuple(sample))"
   ]
  },
  {
   "cell_type": "markdown",
   "metadata": {},
   "source": [
    "列表转字符串和元组"
   ]
  },
  {
   "cell_type": "code",
   "execution_count": 137,
   "metadata": {},
   "outputs": [
    {
     "data": {
      "text/plain": [
       "\"['abcdefg', 'hijk']\""
      ]
     },
     "execution_count": 137,
     "metadata": {},
     "output_type": "execute_result"
    },
    {
     "data": {
      "text/plain": [
       "('abcdefg', 'hijk')"
      ]
     },
     "execution_count": 137,
     "metadata": {},
     "output_type": "execute_result"
    }
   ],
   "source": [
    "list1 = [\"abcdefg\",\"hijk\"]\n",
    "str(list1)\n",
    "tuple(list1)"
   ]
  },
  {
   "cell_type": "markdown",
   "metadata": {},
   "source": [
    "元组换字符串和列表"
   ]
  },
  {
   "cell_type": "code",
   "execution_count": 138,
   "metadata": {},
   "outputs": [
    {
     "data": {
      "text/plain": [
       "([1, 2, 3, 4, 5], '(1, 2, 3, 4, 5)')"
      ]
     },
     "execution_count": 138,
     "metadata": {},
     "output_type": "execute_result"
    }
   ],
   "source": [
    "tuple = (1,2,3,4,5)\n",
    "list(tuple)\n",
    "str(tuple)"
   ]
  },
  {
   "cell_type": "markdown",
   "metadata": {},
   "source": [
    "从上面的结果可以看到，元组和列表可以直接相互转换，但是如果把元组或者列表转换为字符串的话，会保留中括号等等符号，还有字符串的双引号。"
   ]
  },
  {
   "cell_type": "markdown",
   "metadata": {},
   "source": [
    "### 1.3.7 用循环遍历列表\n",
    "\n"
   ]
  },
  {
   "cell_type": "code",
   "execution_count": 143,
   "metadata": {},
   "outputs": [
    {
     "name": "stdout",
     "output_type": "stream",
     "text": [
      "Enter the amount of numbers: 5\n",
      "Enter a number 1\n",
      "Enter a number 2\n",
      "Enter a number 3\n",
      "Enter a number 4\n",
      "Enter a number 5\n"
     ]
    },
    {
     "data": {
      "text/plain": [
       "120"
      ]
     },
     "execution_count": 143,
     "metadata": {},
     "output_type": "execute_result"
    }
   ],
   "source": [
    "numbers = []\n",
    "result = 1\n",
    "total = int(input(\"Enter the amount of numbers: \"))\n",
    "for i in range(total):\n",
    "    numbers.append(int(input(\"Enter a number \")))\n",
    "for i in numbers:\n",
    "    result *= i\n",
    "result"
   ]
  },
  {
   "cell_type": "markdown",
   "metadata": {
    "collapsed": true
   },
   "source": [
    "### 1.3.8 字典简介\n",
    "\n",
    "定义字典时，每一个元素叫做一个键值对，用x:y来定义，其中x为每个元素的关键字，也就是键；y为元素储存的值。键在字典中必须是唯一且不可变的，二不同的键代表的值可以是任意的数据类型，也有相同的值存在。\n"
   ]
  },
  {
   "cell_type": "code",
   "execution_count": 222,
   "metadata": {},
   "outputs": [
    {
     "name": "stdout",
     "output_type": "stream",
     "text": [
      "{1: 'apple', 2: 'banana', 3: 'orange'}\n"
     ]
    }
   ],
   "source": [
    "mydict = {1:'apple',2:'banana',3:'orange'}\n",
    "print(mydict)\n",
    "mylist = [1,2,3]*100"
   ]
  },
  {
   "cell_type": "code",
   "execution_count": 227,
   "metadata": {},
   "outputs": [
    {
     "name": "stdout",
     "output_type": "stream",
     "text": [
      "10000 loops, best of 3: 56 µs per loop\n"
     ]
    }
   ],
   "source": [
    "def a():\n",
    "    newlist = []\n",
    "    for item in  map(lambda x: mydict[x],mylist):\n",
    "        newlist.append(item)\n",
    "    return newlist\n",
    "a()\n",
    "%timeit a()"
   ]
  },
  {
   "cell_type": "code",
   "execution_count": 226,
   "metadata": {},
   "outputs": [
    {
     "name": "stdout",
     "output_type": "stream",
     "text": [
      "10000 loops, best of 3: 44.4 µs per loop\n"
     ]
    }
   ],
   "source": [
    "def b():   \n",
    "    newlist=[]\n",
    "    for i in range(len(mylist)):\n",
    "        newlist.append(mydict[mylist[i]])\n",
    "    return newlist\n",
    "b()\n",
    "%timeit b()"
   ]
  },
  {
   "cell_type": "code",
   "execution_count": 1,
   "metadata": {},
   "outputs": [
    {
     "name": "stdout",
     "output_type": "stream",
     "text": [
      "The initial array is : [1, 2, 3, 4, 5, 6, 7, 8, 9, 10]\n",
      "Test 1 :\n",
      "[1, 4, 9, 16, 25, 36, 49, 64, 81, 100]\n",
      "Test 2:\n",
      "[1, 4, 9, 16, 25, 36, 49, 64, 81, 100]\n",
      "Test 3 :\n",
      "[1, 4, 9, 16, 25, 36, 49, 64, 81, 100]\n"
     ]
    }
   ],
   "source": [
    "#对List中元素批量操作的方法总结如下\n",
    "arr = [1,2,3,4,5,6,7,8,9,10]\n",
    "print(\"The initial array is :\",arr)\n",
    "#利用 map 函数\n",
    "def squ(x):\n",
    "    return x ** 2\n",
    "l1 = list(map(squ,arr))\n",
    "print(\"Test 1 :\")\n",
    "print(l1)\n",
    "#利用 for 循环\n",
    "l2 = [i ** 2 for i in arr]\n",
    "print(\"Test 2:\")\n",
    "print(l2)\n",
    "#利用 for 循环 + 自定义函数\n",
    "l3 = [squ(i) for i in arr]\n",
    "print(\"Test 3 :\")\n",
    "print(l3)"
   ]
  },
  {
   "cell_type": "markdown",
   "metadata": {},
   "source": [
    "## 1.4 函数\n",
    "\n",
    "定义函数的格式为def 函数名(变量名):\n",
    "\n",
    "Python和其他语言不一样，可以同时返回多个值，而且可以是不同类型的值。返回多个值的时候，在等好的左边用多个变量接住，变量之间用逗号隔开。"
   ]
  },
  {
   "cell_type": "code",
   "execution_count": 5,
   "metadata": {},
   "outputs": [
    {
     "name": "stdout",
     "output_type": "stream",
     "text": [
      "Hello! Please enter the first number: 1\n",
      "Please enter the second number: 2\n"
     ]
    },
    {
     "data": {
      "text/plain": [
       "3"
      ]
     },
     "execution_count": 5,
     "metadata": {},
     "output_type": "execute_result"
    }
   ],
   "source": [
    "def Hello():\n",
    "    num1 = int(input(\"Hello! Please enter the first number: \"))\n",
    "    num2 = int(input(\"Please enter the second number: \"))\n",
    "    return num1,num2\n",
    "\n",
    "n1, n2 = Hello()\n",
    "n1 + n2"
   ]
  },
  {
   "cell_type": "markdown",
   "metadata": {},
   "source": [
    "### 1.4.2 主函数\n",
    "\n",
    "在C语言中，主函数和子函数之外的语句只能是定义语句。而在Python中，函数之外也可以有定义语句之外的语句，比如输出等。Python程序运行的时候，只会运行不在函数内的代码和主函数内的代码，不会运行子函数内的代码段。子函数内的代码段只有在被调用时才会运行。\n",
    "\n",
    "Python中关于主函数的定义："
   ]
  },
  {
   "cell_type": "code",
   "execution_count": 6,
   "metadata": {},
   "outputs": [
    {
     "name": "stdout",
     "output_type": "stream",
     "text": [
      "Inside\n"
     ]
    }
   ],
   "source": [
    "if __name__ == '__main__':\n",
    "    print(\"Inside\")\n",
    "    "
   ]
  },
  {
   "cell_type": "code",
   "execution_count": 7,
   "metadata": {},
   "outputs": [
    {
     "name": "stdout",
     "output_type": "stream",
     "text": [
      "Outside\n",
      "inside\n"
     ]
    }
   ],
   "source": [
    "def sq(num):\n",
    "    print(num**2)\n",
    "print(\"Outside\")\n",
    "if __name__ == \"__main__\":\n",
    "    print(\"inside\")"
   ]
  },
  {
   "cell_type": "markdown",
   "metadata": {},
   "source": [
    "### 1.4.3 调用函数\n",
    "\n",
    "### 1.4.4 全局变量\n"
   ]
  },
  {
   "cell_type": "code",
   "execution_count": 8,
   "metadata": {},
   "outputs": [
    {
     "name": "stdout",
     "output_type": "stream",
     "text": [
      "2\n"
     ]
    }
   ],
   "source": [
    "g = 10\n",
    "def calc(a,b,c):\n",
    "    ans = a*b - c\n",
    "    return ans\n",
    "print(calc(2,3,4))"
   ]
  },
  {
   "cell_type": "code",
   "execution_count": 10,
   "metadata": {},
   "outputs": [
    {
     "name": "stdout",
     "output_type": "stream",
     "text": [
      "12\n"
     ]
    }
   ],
   "source": [
    "g = 10\n",
    "def calc(a,b,c):\n",
    "    global g\n",
    "    ans = a*b - c + g \n",
    "    return ans\n",
    "\n",
    "print(calc(2,3,4))"
   ]
  },
  {
   "cell_type": "markdown",
   "metadata": {},
   "source": [
    "# 1.4.5 函数的应用\n",
    "\n",
    "问题：\n",
    "\n",
    "一个苹果2元，一个菠萝8元，一个西瓜10元。一个盒子1元，它最多能装下5个苹果或一个菠萝或一个西瓜。编写一个程序，让用户输入每种水果的购买数量，然后输出每种水果加上盒子需要多少钱，以及一共要多少钱。\n",
    "\n",
    "没有使用函数的解法："
   ]
  },
  {
   "cell_type": "code",
   "execution_count": 23,
   "metadata": {},
   "outputs": [
    {
     "name": "stdout",
     "output_type": "stream",
     "text": [
      "Enter the number of apples:1\n",
      "Enter the number of pineapples:1\n",
      "Enter the number of watermelons:1\n",
      "Price of apple: 3\n",
      "Price of pineapple: 9\n",
      "Price of watermalon: 11\n",
      "Total: 23\n"
     ]
    }
   ],
   "source": [
    "numA = int(input(\"Enter the number of apples:\"))\n",
    "numP = int(input(\"Enter the number of pineapples:\"))\n",
    "numW = int(input(\"Enter the number of watermelons:\"))\n",
    "\n",
    "if numA//5 < numA/5:\n",
    "    box = numA//5 +1\n",
    "else:\n",
    "    box = numA//5\n",
    "sumA = 2*numA + box\n",
    "print(\"Price of apple:\", sumA)\n",
    "\n",
    "sumP = numP*8 + numP\n",
    "print(\"Price of pineapple:\", sumP)\n",
    "\n",
    "sumW = numW*10 + numW\n",
    "print(\"Price of watermalon:\", sumW)\n",
    "\n",
    "print(\"Total:\", sumA+ sumP + sumW)"
   ]
  },
  {
   "cell_type": "code",
   "execution_count": 24,
   "metadata": {},
   "outputs": [
    {
     "name": "stdout",
     "output_type": "stream",
     "text": [
      "Enter the number of apples:1\n",
      "Enter the number of pineapples:1\n",
      "Enter the number of watermelons:1\n",
      "Price of apple: 3\n",
      "Price of pineapples: 9\n",
      "Price of Watermalon: 11\n",
      "Total: 23\n"
     ]
    }
   ],
   "source": [
    "def Apple(n):\n",
    "    if n//5 < n/5:\n",
    "        box = n//5 + 1\n",
    "    else:\n",
    "        box = n//5\n",
    "    print(\"Price of apple:\",2*n + box)\n",
    "    return 2*n + box\n",
    "\n",
    "def Pineapple(n):\n",
    "    print(\"Price of pineapples:\",8*n+n)\n",
    "    return 8*n+n\n",
    "\n",
    "def Watermelon(n):\n",
    "    print(\"Price of Watermalon:\", 10*n +n)\n",
    "    return 10*n + n\n",
    "numA = int(input(\"Enter the number of apples:\"))\n",
    "numP = int(input(\"Enter the number of pineapples:\"))\n",
    "numW = int(input(\"Enter the number of watermelons:\"))\n",
    "print(\"Total:\",Apple(numA)+Pineapple(numP)+Watermelon(numW))\n"
   ]
  },
  {
   "cell_type": "code",
   "execution_count": 28,
   "metadata": {},
   "outputs": [
    {
     "name": "stdout",
     "output_type": "stream",
     "text": [
      "1 2 3\n"
     ]
    },
    {
     "data": {
      "text/plain": [
       "'1 2 3'"
      ]
     },
     "execution_count": 28,
     "metadata": {},
     "output_type": "execute_result"
    }
   ],
   "source": [
    "    "
   ]
  },
  {
   "cell_type": "code",
   "execution_count": 53,
   "metadata": {},
   "outputs": [
    {
     "data": {
      "text/plain": [
       "['1', '2', '3']"
      ]
     },
     "execution_count": 53,
     "metadata": {},
     "output_type": "execute_result"
    }
   ],
   "source": []
  },
  {
   "cell_type": "code",
   "execution_count": 57,
   "metadata": {},
   "outputs": [
    {
     "data": {
      "text/plain": [
       "1"
      ]
     },
     "execution_count": 57,
     "metadata": {},
     "output_type": "execute_result"
    }
   ],
   "source": []
  }
 ],
 "metadata": {
  "kernelspec": {
   "display_name": "Python 3",
   "language": "python",
   "name": "python3"
  },
  "language_info": {
   "codemirror_mode": {
    "name": "ipython",
    "version": 3
   },
   "file_extension": ".py",
   "mimetype": "text/x-python",
   "name": "python",
   "nbconvert_exporter": "python",
   "pygments_lexer": "ipython3",
   "version": "3.6.1"
  }
 },
 "nbformat": 4,
 "nbformat_minor": 2
}
