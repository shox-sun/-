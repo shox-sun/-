{
 "cells": [
  {
   "cell_type": "markdown",
   "metadata": {
    "collapsed": true
   },
   "source": [
    "# 第五章 广度优先算法\n",
    "\n",
    "\n",
    "广度优先和深度优先遍历相似，都是查找方法。它也是从某个状态出发去查询所有可以到达的状态，但是和深度优先不同，广度优先总是先查询距离初始状态最近的状态。\n",
    "\n",
    "本章主要涉及的问题有如下几个：\n",
    "- 选课的智慧：如何确定选课的顺序\n",
    "- 寻找制高点：寻找制高点，强占有利地形\n",
    "- 合法的括号：从非合法括号序列中寻找合法括号序列\n",
    "- 树的右侧：从树的侧边观察树的伟岸身躯\n",
    "\n",
    "## 5.1 什么是广度优先遍历\n",
    "\n",
    "对比第四章中的DFS，广度优先算法在搜索中，采用由近及远的方式。先访问距离起始点最近的点，再访问远一点的点。比如访问距离初始点只有一步的点，然后再访问距离初始点两步的点。\n",
    "\n",
    "因此广度优先算法也叫层次遍历法，一层一层地去寻找答案。\n",
    "\n",
    "## 5.2 选课的智慧\n",
    "\n",
    "选课的时候，我们常常遇到某些课程需要修过前置课程，然后才可以进行选课。我们可以用一个二维数组去储存这种关系，如果第i个课程是第j个课程的先修课，那么数组中的(i+1,j+1)位置是1。\n",
    "\n",
    "### 5.2.1 广度优先遍历\n",
    "\n",
    "比如说小明有法律问题需要咨询，首先我们想到的是自己的朋友，看看自己朋友（一度人脉）里面有没有律师。如果自己朋友里面没有律师，我们会去想朋友的朋友（二度人脉）里面是否有律师，等等。这种检索方式就是广度优先遍历。\n",
    "\n",
    "每段时间，我们有一个考察对象，去询问是否是律师。这边需要用到的数据结构叫做队列，它的性质是先入先出，后入后出。比如排队买咖啡，作为有素质的人，必然会排到队伍的尾端。先来的人先买，买完离开，后来的人加入队尾。\n",
    "\n",
    "### 5.2.2 问题求解\n",
    "\n",
    "首先需要建立一个数组去储存每门课的先修数量，讲每门课的先修数量初始化为0，课程数量为numCoureses。"
   ]
  },
  {
   "cell_type": "code",
   "execution_count": 21,
   "metadata": {},
   "outputs": [],
   "source": [
    "preList = [[0,0,1,0,0],[0,0,1,0,0],[0,0,0,0,1],[0,0,0,0,1],[0,0,0,0,0]]\n",
    "numCourses = len(preList)\n",
    "preListCount = [0]*numCourses"
   ]
  },
  {
   "cell_type": "code",
   "execution_count": 6,
   "metadata": {},
   "outputs": [
    {
     "data": {
      "text/plain": [
       "[0, 0, 0, 0, 0]"
      ]
     },
     "execution_count": 6,
     "metadata": {},
     "output_type": "execute_result"
    }
   ],
   "source": []
  },
  {
   "cell_type": "markdown",
   "metadata": {},
   "source": [
    "接下来，需要通过先修课的二维数组preList来计算每门课的先修课数量，代码如下："
   ]
  },
  {
   "cell_type": "code",
   "execution_count": 22,
   "metadata": {},
   "outputs": [],
   "source": [
    "for line in preList:               # 取出二维数组的每一行\n",
    "    for i in range(len(line)):     # 针对每一行计算和，对preListCount进行赋值\n",
    "        if line[i] == 1:\n",
    "            preListCount[i] += 1"
   ]
  },
  {
   "cell_type": "markdown",
   "metadata": {},
   "source": [
    "接下来，建立一个队列canTake去储存目前可以选择的课程。讲那些先修课数量为0的课程加入队列canTake。"
   ]
  },
  {
   "cell_type": "code",
   "execution_count": 41,
   "metadata": {},
   "outputs": [],
   "source": [
    "canTake = []\n",
    "for i in range(len(preListCount)):\n",
    "    if preListCount[i] == 0:\n",
    "        canTake.append(i)"
   ]
  },
  {
   "cell_type": "markdown",
   "metadata": {},
   "source": [
    "经过以上步骤，我们建立了存放每门课程先修课数量的数组preListCount和存放目前可以进行选修的课的队列canTake。接下来，就可以使用广度优先算法遍历，进行选课了。先修课数量，相当于距离决策的距离。可以选修的课队列相当于目前的搜索范围，先入先出，当每一门课被选中的时候，更新先修课数量的数组，实际上更新了距离决策的距离。最后我们加上限定条件，结束BFS，就完成了选课。"
   ]
  },
  {
   "cell_type": "code",
   "execution_count": 43,
   "metadata": {},
   "outputs": [
    {
     "name": "stdout",
     "output_type": "stream",
     "text": [
      "[0]\n",
      "[0, 1]\n",
      "[0, 1, 3]\n"
     ]
    }
   ],
   "source": [
    "classTake = []\n",
    "while len(canTake) != 0:\n",
    "    thisClass = canTake[0]\n",
    "    del canTake[0]\n",
    "    classTake.append(thisClass)\n",
    "    print(classTake)\n",
    "    for i in range(numCourses):\n",
    "        if preList[thisClass][i] == 1:\n",
    "            preListCount[i] -= 1\n",
    "            if preListCount[i] == 0:\n",
    "                canTake.append(i)"
   ]
  },
  {
   "cell_type": "markdown",
   "metadata": {},
   "source": [
    "### 5.2.3 最终代码"
   ]
  },
  {
   "cell_type": "code",
   "execution_count": 49,
   "metadata": {
    "collapsed": true
   },
   "outputs": [],
   "source": [
    "def bfs(numCourses,preList):\n",
    "    preListCount = [0]*numCourses\n",
    "    for line in preList:\n",
    "        for i in range(len(line)):\n",
    "            if line[i] == 1:\n",
    "                preListCount += 1\n",
    "    canTake = []\n",
    "    for i in range(len(preListCount)):\n",
    "        if preListCount[i] == 0:\n",
    "            canTake.append(i)\n",
    "    classTake = []\n",
    "    while len(canTake) != 0:\n",
    "        thisClass = canTake[0]\n",
    "        del canTake[0]\n",
    "        classTake.append(thisClass)\n",
    "        print(classTake)\n",
    "        for i in range(numCourses):\n",
    "            if preList[thisClass][i] == 1:\n",
    "                preListCount[i] -= 1\n",
    "                if preListCount[i] == 0:\n",
    "                    canTake.append(i)"
   ]
  },
  {
   "cell_type": "markdown",
   "metadata": {},
   "source": [
    "## 5.3 寻找制高点\n",
    "\n",
    "首先吧地图网格化，每个格点用一个数字代表高度，之后就可以用二维数组表示海拔。制高点的定义是，可以一直向下到达东南西北四个方向的点。在向下走的过程中是不能够爬坡的，也就是说，只能向比当前点低的点或者一样高的点的方向去走，最终能够到达地图的四个边缘。\n",
    "\n",
    "### 5.3.1 问题求解\n",
    "\n",
    "这个问题是典型的搜索问题，最暴力的想法是遍历每个点，查看每个点是否能到达四个边缘。但是，不像迷宫问题，搜索的目标点不是一个单点，而是所有的边缘点，这种暴力搜索显然是效率很低的。\n",
    "\n",
    "使用逆向思维，我们从边缘的所有点出发，向内部开始搜索，查看下一个节点的高度是否高于或者等于自身的高度。然后标记那些能够达到的点为True,继续搜索下去，直到不能走为止。按照同样的思路分别标记从四个边缘出发可以到达的点，那么最终四者均为True的点，就是我们寻找的制高点。"
   ]
  },
  {
   "cell_type": "markdown",
   "metadata": {},
   "source": [
    "首先，我们有的是一张地图，可以用二维数组去表示。代码框架如下："
   ]
  },
  {
   "cell_type": "code",
   "execution_count": 58,
   "metadata": {
    "collapsed": true
   },
   "outputs": [],
   "source": [
    "matrix = [[1,3,2,3,5],\n",
    "          [3,4,5,6,3],\n",
    "          [2,7,4,3,3],\n",
    "          [5,2,2,3,1]]"
   ]
  },
  {
   "cell_type": "code",
   "execution_count": 59,
   "metadata": {
    "collapsed": true
   },
   "outputs": [],
   "source": [
    "def solve(matrix):    # matrix是储存地图的二维数组\n",
    "    if not matrix: \n",
    "        return matrix # 如果二维数组为空，那么返回空\n",
    "    pass              # 之后的逻辑，用pass代替"
   ]
  },
  {
   "cell_type": "markdown",
   "metadata": {},
   "source": [
    "为了更好地表示移动方向，同样使用一个二维数组来储存上下左右四个方向。这个技巧会在以后的问题中多次使用到。"
   ]
  },
  {
   "cell_type": "code",
   "execution_count": 60,
   "metadata": {
    "collapsed": true
   },
   "outputs": [],
   "source": [
    "direction = [[0,1],[0,-1],[1,0],[-1,0]]  # 数组中的四个元素代表四个方向"
   ]
  },
  {
   "cell_type": "markdown",
   "metadata": {},
   "source": [
    "计算地图的大小"
   ]
  },
  {
   "cell_type": "code",
   "execution_count": 61,
   "metadata": {},
   "outputs": [],
   "source": [
    "m = len(matrix)    # 计算地图有多少行\n",
    "n = len(matrix[0]) # 计算地图有多少列"
   ]
  },
  {
   "cell_type": "markdown",
   "metadata": {},
   "source": [
    "接下来，从山的背面上山为例，来寻找制高点，队列是完成广度优先遍历必备的数据结构。所以，先把第一行的点全部加入队列，然后就可以开始广度优先遍历了："
   ]
  },
  {
   "cell_type": "code",
   "execution_count": 69,
   "metadata": {
    "collapsed": true
   },
   "outputs": [],
   "source": [
    "toppoint = [(0,y) for y in range(n)]"
   ]
  },
  {
   "cell_type": "markdown",
   "metadata": {},
   "source": [
    "由于从上下左右四个方向上山都是同一个子问题，因此最好把广度优先遍历写成一个函数，代码模板如下："
   ]
  },
  {
   "cell_type": "code",
   "execution_count": 72,
   "metadata": {},
   "outputs": [],
   "source": [
    "def bfs(set,m,n,matrix):\n",
    "    while len(set) > 0:\n",
    "        x,y = set.pop(0)\n",
    "        # 一些逻辑处理\n",
    "        pass\n",
    "        if True : # 可以到达\n",
    "            set.append((x,y))\n",
    "            "
   ]
  },
  {
   "cell_type": "markdown",
   "metadata": {},
   "source": [
    "广度优先遍历算法的步骤是从队头取出一个点，然后从改点出发，通过方向数组建立新的点，查询这些点是否可以到达。记录到达的点，然后把这些点加入队列。为了保存那些可以到达的点，需要在广度优先遍历之前，建立一个队列的副本。在Python中，list()函数可以把元组转换成列表，通过list()函数建立set的一个副本，作为新的队列。"
   ]
  },
  {
   "cell_type": "code",
   "execution_count": 77,
   "metadata": {
    "collapsed": true
   },
   "outputs": [],
   "source": [
    "def bfs(set,m,n,matrix):\n",
    "    queue = list(set)\n",
    "    while len(queue) > 0:\n",
    "        x,y = queue.pop(0) # 取出队列中的第一个元素，并删除，通过两个变量来接受横纵坐标\n",
    "        for d in direction:\n",
    "            nx = x + d[0]\n",
    "            ny = y + d[1]\n",
    "            if 0<= nx and nx < m and 0<=ny and ny< n:\n",
    "                if matrix[nx][ny] >= matrix[x][y]:\n",
    "                    if (nx,ny) not in set:\n",
    "                        queue.append((nx,ny))\n",
    "                        set.add((nx,ny))"
   ]
  },
  {
   "cell_type": "markdown",
   "metadata": {},
   "source": [
    "经过上面的广度优先遍历，可以得到从某一个方向护法可以到达的点，那么我们执行四次，就可以得到四个方向的结果了。为了后面的集合运算，我们使用set()函数来把列表转化成集合："
   ]
  },
  {
   "cell_type": "code",
   "execution_count": 78,
   "metadata": {},
   "outputs": [],
   "source": [
    "topPoint = set((0,y) for y in range(n))\n",
    "leftPoint = set((x,0) for x in range(m))\n",
    "bottomPoint = set((m-1,y) for y in range(n))\n",
    "rightPoint = set((x,n-1) for x in range(m))\n",
    "bfs(topPoint, m, n, matrix)\n",
    "bfs(leftPoint, m, n, matrix)\n",
    "bfs(bottomPoint, m, n, matrix)\n",
    "bfs(rightPoint, m, n, matrix)"
   ]
  },
  {
   "cell_type": "code",
   "execution_count": 83,
   "metadata": {},
   "outputs": [],
   "source": [
    "result = topPoint & bottomPoint & leftPoint & rightPoint"
   ]
  },
  {
   "cell_type": "markdown",
   "metadata": {},
   "source": [
    "### 5.2.3 最终代码\n",
    "\n"
   ]
  },
  {
   "cell_type": "code",
   "execution_count": 84,
   "metadata": {},
   "outputs": [
    {
     "name": "stdout",
     "output_type": "stream",
     "text": [
      "{(1, 2), (1, 3), (2, 1)}\n"
     ]
    }
   ],
   "source": [
    "def bfs(set,m,n,matrix):\n",
    "    direction = [[0,1],[0,-1],[1,0],[-1,0]]\n",
    "    queue = list(set)\n",
    "    while len(queue) > 0:\n",
    "        x,y = queue.pop(0) # 取出队列中的第一个元素，并删除，通过两个变量来接受横纵坐标\n",
    "        for d in direction:\n",
    "            nx = x + d[0]\n",
    "            ny = y + d[1]\n",
    "            if 0<= nx and nx < m and 0<=ny and ny< n:\n",
    "                if matrix[nx][ny] >= matrix[x][y]:\n",
    "                    if (nx,ny) not in set:\n",
    "                        queue.append((nx,ny))\n",
    "                        set.add((nx,ny))\n",
    "\n",
    "def solve(matrix):\n",
    "    if not matrix:\n",
    "        return matrix\n",
    "    m = len(matrix)\n",
    "    n = len(matrix[0])\n",
    "    topPoint = set((0,y) for y in range(n))\n",
    "    leftPoint = set((x,0) for x in range(m))\n",
    "    bottomPoint = set((m-1,y) for y in range(n))\n",
    "    rightPoint = set((x,n-1) for x in range(m))\n",
    "    bfs(topPoint, m, n, matrix)\n",
    "    bfs(leftPoint, m, n, matrix)\n",
    "    bfs(bottomPoint, m, n, matrix)\n",
    "    bfs(rightPoint, m, n, matrix)\n",
    "    result = topPoint & bottomPoint & leftPoint & rightPoint\n",
    "    return result\n",
    "\n",
    "matrix = [[1,3,2,3,5],\n",
    "          [3,4,5,6,3],\n",
    "          [2,7,4,3,3],\n",
    "          [5,2,2,3,1]]\n",
    "s = solve(matrix)\n",
    "print(s)    "
   ]
  },
  {
   "cell_type": "markdown",
   "metadata": {},
   "source": [
    "## 5.4 合法的括号\n",
    "\n"
   ]
  }
 ],
 "metadata": {
  "kernelspec": {
   "display_name": "Python 3",
   "language": "python",
   "name": "python3"
  },
  "language_info": {
   "codemirror_mode": {
    "name": "ipython",
    "version": 3
   },
   "file_extension": ".py",
   "mimetype": "text/x-python",
   "name": "python",
   "nbconvert_exporter": "python",
   "pygments_lexer": "ipython3",
   "version": "3.6.1"
  }
 },
 "nbformat": 4,
 "nbformat_minor": 2
}
