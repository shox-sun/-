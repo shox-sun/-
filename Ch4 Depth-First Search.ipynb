{
 "cells": [
  {
   "cell_type": "markdown",
   "metadata": {
    "collapsed": true
   },
   "source": [
    "# 第四章 深度优先遍历算法\n",
    "\n",
    "深度优先遍历算法是经典的图论算法，深度优先遍历算法的搜索逻辑和它的名字一样，只要有可能，就尽量深入搜索，直到找到答案，或者尝试了所有可能后没有确定解。\n",
    "\n",
    "本章设计的主要问题有以下几个：\n",
    "- 什么是深度优先遍历： 简单介绍什么是深度优先遍历算法\n",
    "- 二叉树：详细介绍什么是二叉树\n",
    "- 怎么抓住小偷： 树的深度优先搜索问题\n",
    "- 二叉树中的最大路径和： 树的深度优先搜索问题。\n",
    "- 最大的岛屿：连通性问题。\n",
    "\n",
    "## 4.1 什么是深度优先遍历\n",
    "\n",
    "搜索问题的本质是试探问题的所有可能选择，按照特定的规律和顺序，不断地去搜索答案，直到找到问题的解。如果把所有可能都走了一遍，也没有找到解，就说明这个问题没有解。\n",
    "\n",
    "## 4.2 二叉树\n",
    "\n",
    "二叉树是一种特殊的数据结构。常见的数据结构包含，数组、链表、图、队列、散列表和树。二叉树属于树结构。二叉树的每个节点都有两个分支，称为“左子树”和“右子树”。二叉树的每一层最多有$2^{n}-1$个节点。和普通树不同，普通树的节点没有分支限制，并且普通树的节点没有左右子树的区别。\n",
    "\n",
    "### 4.2.1 二叉树的类型\n",
    "\n",
    "- 空二叉树：有0个节点的二叉树。\n",
    "- 完美二叉树：每一层的节点数量都是满的。\n",
    "- 满二叉树：每一个节点有0或者2个子节点。没有只有一个子节点的节点。\n",
    "- 完全二叉树：除了最后一层，每一层的节点数都是满的。\n",
    "- 平衡二叉树：每个节点的两个子树的深度相差不超过1.\n",
    "\n",
    "### 4.2.2 二叉树的相关术语\n",
    "\n",
    "- 度：节点的度是节点的子树个数\n",
    "- 叶子结点： 度为0的节点\n",
    "- 分支节点： 度不为0的节点\n",
    "- 孩子节点：节点下的两个子节点\n",
    "- 双亲节点： 节点上一层的源头节点\n",
    "- 兄弟节点： 拥有同一个双亲节点的节点\n",
    "- 根：二叉树的源头节点\n",
    "- 深度：二叉树中节点的层的数量\n",
    "\n",
    "### 4.2.3 二叉树的节点代码\n"
   ]
  },
  {
   "cell_type": "code",
   "execution_count": 1,
   "metadata": {
    "collapsed": true
   },
   "outputs": [],
   "source": [
    "class Node:\n",
    "    def __init__(self, x):\n",
    "        self.value = x\n",
    "        self.left = None\n",
    "        self.right = None"
   ]
  },
  {
   "cell_type": "markdown",
   "metadata": {},
   "source": [
    "### 4.2.4 二叉树的遍历顺序\n",
    "\n",
    "二叉树有三种遍历顺序，用L，R，D分别代表左子树，右子树和根。DLR，LDR，LRD代表前序，中序，后序，前中后分别代表的是根的位置。遍历的意思是不重复地走遍二叉树的所有节点。\n",
    "\n",
    "上述都是深度优先遍历的方法，如果是广度优先遍历，则是按层递进，每一层从左向右扫描一遍节点。\n",
    "\n",
    "## 4.3 怎么抓住小偷\n",
    "\n",
    "\n",
    "分析中找到规律，每个节点偷的收益是 = 左侧子节点不偷的收益+ 右侧子节点不偷的收益 + 节点的财富\n",
    "每个节点不偷的收益是 = 左侧子节点偷或者不偷收益的最大值 + 右侧子节点偷或者不偷收益的最大值"
   ]
  },
  {
   "cell_type": "code",
   "execution_count": 44,
   "metadata": {
    "collapsed": true
   },
   "outputs": [],
   "source": [
    "class TreeNode: # 二叉树节点的定义\n",
    "    def __init__(self, x,left_node,right_node):\n",
    "        self.val = x #财富值\n",
    "        self.left = left_node # 左侧子节点\n",
    "        self.right = right_node # 右侧子节点"
   ]
  },
  {
   "cell_type": "markdown",
   "metadata": {},
   "source": [
    "那么任何一个节点（用root表示）的偷值（robValue）与不偷值（skipValue）则是："
   ]
  },
  {
   "cell_type": "code",
   "execution_count": 2,
   "metadata": {
    "scrolled": false
   },
   "outputs": [
    {
     "ename": "NameError",
     "evalue": "name 'root' is not defined",
     "output_type": "error",
     "traceback": [
      "\u001b[1;31m---------------------------------------------------------------------------\u001b[0m",
      "\u001b[1;31mNameError\u001b[0m                                 Traceback (most recent call last)",
      "\u001b[1;32m<ipython-input-2-8ebb7aa3bcce>\u001b[0m in \u001b[0;36m<module>\u001b[1;34m()\u001b[0m\n\u001b[1;32m----> 1\u001b[1;33m \u001b[0mrobValue\u001b[0m \u001b[1;33m=\u001b[0m \u001b[0mroot\u001b[0m\u001b[1;33m.\u001b[0m\u001b[0mval\u001b[0m \u001b[1;33m+\u001b[0m \u001b[0mroot\u001b[0m\u001b[1;33m.\u001b[0m\u001b[0mleft\u001b[0m\u001b[1;33m.\u001b[0m\u001b[0mskipValue\u001b[0m \u001b[1;33m+\u001b[0m \u001b[0mroot\u001b[0m\u001b[1;33m.\u001b[0m\u001b[0mright\u001b[0m\u001b[1;33m.\u001b[0m\u001b[0mskipValue\u001b[0m\u001b[1;33m\u001b[0m\u001b[0m\n\u001b[0m\u001b[0;32m      2\u001b[0m \u001b[0mskipValue\u001b[0m \u001b[1;33m=\u001b[0m \u001b[0mmax\u001b[0m\u001b[1;33m(\u001b[0m\u001b[0mroot\u001b[0m\u001b[1;33m.\u001b[0m\u001b[0mleft\u001b[0m\u001b[1;33m.\u001b[0m\u001b[0mrobvalue\u001b[0m \u001b[1;33m+\u001b[0m \u001b[0mroot\u001b[0m\u001b[1;33m.\u001b[0m\u001b[0mleft\u001b[0m\u001b[1;33m.\u001b[0m\u001b[0mskipValue\u001b[0m\u001b[1;33m)\u001b[0m \u001b[1;33m+\u001b[0m \u001b[0mmax\u001b[0m\u001b[1;33m(\u001b[0m\u001b[0mroot\u001b[0m\u001b[1;33m.\u001b[0m\u001b[0mright\u001b[0m\u001b[1;33m.\u001b[0m\u001b[0mrobvalue\u001b[0m \u001b[1;33m+\u001b[0m \u001b[0mroot\u001b[0m\u001b[1;33m.\u001b[0m\u001b[0mright\u001b[0m\u001b[1;33m.\u001b[0m\u001b[0mskipValue\u001b[0m\u001b[1;33m)\u001b[0m\u001b[1;33m\u001b[0m\u001b[0m\n",
      "\u001b[1;31mNameError\u001b[0m: name 'root' is not defined"
     ]
    }
   ],
   "source": [
    "robValue = root.val + root.left.skipValue + root.right.skipValue\n",
    "skipValue = max(root.left.robvalue + root.left.skipValue) + max(root.right.robvalue + root.right.skipValue) "
   ]
  },
  {
   "cell_type": "code",
   "execution_count": 45,
   "metadata": {
    "collapsed": true
   },
   "outputs": [],
   "source": [
    "def rob(self,root):\n",
    "    a = self.helper(root) # a是一个二维数组，为root的[偷的收益，不偷的收益]\n",
    "    return max(a[0],a[1])\n",
    "def helper(self,root):\n",
    "    if(root == None):\n",
    "        return [0,0]\n",
    "    left = self.helper(root.left)\n",
    "    right = self.helper(root.right)\n",
    "    robValue = root.value + left[1] + right[1]\n",
    "    skipValue = max(left) + max(right)\n",
    "    return [robValue, skipValue]"
   ]
  },
  {
   "cell_type": "code",
   "execution_count": 47,
   "metadata": {},
   "outputs": [],
   "source": [
    "root1 = TreeNode(3,2,3)\n",
    "root2 = TreeNode(4,4,5)\n",
    "root3 = TreeNode(5,None,6)\n",
    "root4 = TreeNode(1,None,None)\n",
    "root5 = TreeNode(3,None,None)\n",
    "root6 = TreeNode(1,None,None)"
   ]
  },
  {
   "cell_type": "code",
   "execution_count": 53,
   "metadata": {},
   "outputs": [
    {
     "ename": "AttributeError",
     "evalue": "'TreeNode' object has no attribute 'helper'",
     "output_type": "error",
     "traceback": [
      "\u001b[1;31m---------------------------------------------------------------------------\u001b[0m",
      "\u001b[1;31mAttributeError\u001b[0m                            Traceback (most recent call last)",
      "\u001b[1;32m<ipython-input-53-d4014fec9aee>\u001b[0m in \u001b[0;36m<module>\u001b[1;34m()\u001b[0m\n\u001b[1;32m----> 1\u001b[1;33m \u001b[0mroot6\u001b[0m\u001b[1;33m.\u001b[0m\u001b[0mhelper\u001b[0m\u001b[1;33m\u001b[0m\u001b[0m\n\u001b[0m",
      "\u001b[1;31mAttributeError\u001b[0m: 'TreeNode' object has no attribute 'helper'"
     ]
    }
   ],
   "source": [
    "root6.helper"
   ]
  },
  {
   "cell_type": "markdown",
   "metadata": {},
   "source": [
    "## 4.4 二叉树中的最大路径和\n",
    "\n",
    "## 4.5 最大的岛屿"
   ]
  },
  {
   "cell_type": "code",
   "execution_count": null,
   "metadata": {
    "collapsed": true
   },
   "outputs": [],
   "source": []
  },
  {
   "cell_type": "code",
   "execution_count": null,
   "metadata": {
    "collapsed": true
   },
   "outputs": [],
   "source": []
  },
  {
   "cell_type": "code",
   "execution_count": null,
   "metadata": {
    "collapsed": true
   },
   "outputs": [],
   "source": []
  },
  {
   "cell_type": "code",
   "execution_count": null,
   "metadata": {
    "collapsed": true
   },
   "outputs": [],
   "source": []
  }
 ],
 "metadata": {
  "kernelspec": {
   "display_name": "Python 3",
   "language": "python",
   "name": "python3"
  },
  "language_info": {
   "codemirror_mode": {
    "name": "ipython",
    "version": 3
   },
   "file_extension": ".py",
   "mimetype": "text/x-python",
   "name": "python",
   "nbconvert_exporter": "python",
   "pygments_lexer": "ipython3",
   "version": "3.6.1"
  }
 },
 "nbformat": 4,
 "nbformat_minor": 2
}
